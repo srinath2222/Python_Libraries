{
 "cells": [
  {
   "cell_type": "markdown",
   "id": "6d2974bb-75fc-42e1-a7c9-2cdcc09c368a",
   "metadata": {},
   "source": [
    "# Numpy :"
   ]
  },
  {
   "cell_type": "code",
   "execution_count": 177,
   "id": "63442801-8df0-4059-8880-59905edff68a",
   "metadata": {},
   "outputs": [
    {
     "name": "stdout",
     "output_type": "stream",
     "text": [
      "Requirement already satisfied: numpy in c:\\users\\marel\\anaconda3\\lib\\site-packages (1.26.4)\n"
     ]
    }
   ],
   "source": [
    "# NumPy stands for Numerical Python. NumPy is a Python library used for working with arrays.\n",
    "!pip install numpy"
   ]
  },
  {
   "cell_type": "code",
   "execution_count": 179,
   "id": "4c82047b-cd3f-4e5c-b343-3b54659fccc6",
   "metadata": {},
   "outputs": [
    {
     "name": "stdout",
     "output_type": "stream",
     "text": [
      "[1 2 3]\n",
      "[[1. 2. 3.]\n",
      " [4. 5. 6.]]\n",
      "[[[1.5 2.5 3. ]\n",
      "  [5.  6.  7. ]]\n",
      "\n",
      " [[4.  6.  9. ]\n",
      "  [0.  8.  6. ]]]\n"
     ]
    }
   ],
   "source": [
    "import numpy as np  # importing numpy\n",
    "\n",
    "# creating numpy\n",
    "a=np.array([1,2,3])\n",
    "b=np.array([(1,2,3),(4,5,6)], dtype=float)\n",
    "c=np.array([[(1.5,2.5,3),(5,6,7)],[(4,6,9),(0,8,6)]], dtype=float)\n",
    "\n",
    "print(a)\n",
    "print(b)\n",
    "print(c)"
   ]
  },
  {
   "cell_type": "markdown",
   "id": "b336d690-d802-4a5a-8239-bc91b0f86524",
   "metadata": {},
   "source": [
    "### Initial placeholders -"
   ]
  },
  {
   "cell_type": "code",
   "execution_count": 47,
   "id": "b6b49071-19e8-4334-a087-02cbd71fb160",
   "metadata": {},
   "outputs": [
    {
     "data": {
      "text/plain": [
       "array([[0., 0., 0., 0.],\n",
       "       [0., 0., 0., 0.],\n",
       "       [0., 0., 0., 0.]])"
      ]
     },
     "execution_count": 47,
     "metadata": {},
     "output_type": "execute_result"
    }
   ],
   "source": [
    "# creating an array of zeroes.\n",
    "\n",
    "np.zeros((3,4))  # creating 2D array - '3' rows and '4' columns"
   ]
  },
  {
   "cell_type": "code",
   "execution_count": 49,
   "id": "1d24ce49-462c-47be-86ba-f6737027e97f",
   "metadata": {},
   "outputs": [
    {
     "data": {
      "text/plain": [
       "array([[[1., 1., 1., 1., 1., 1.],\n",
       "        [1., 1., 1., 1., 1., 1.],\n",
       "        [1., 1., 1., 1., 1., 1.],\n",
       "        [1., 1., 1., 1., 1., 1.],\n",
       "        [1., 1., 1., 1., 1., 1.]],\n",
       "\n",
       "       [[1., 1., 1., 1., 1., 1.],\n",
       "        [1., 1., 1., 1., 1., 1.],\n",
       "        [1., 1., 1., 1., 1., 1.],\n",
       "        [1., 1., 1., 1., 1., 1.],\n",
       "        [1., 1., 1., 1., 1., 1.]],\n",
       "\n",
       "       [[1., 1., 1., 1., 1., 1.],\n",
       "        [1., 1., 1., 1., 1., 1.],\n",
       "        [1., 1., 1., 1., 1., 1.],\n",
       "        [1., 1., 1., 1., 1., 1.],\n",
       "        [1., 1., 1., 1., 1., 1.]]])"
      ]
     },
     "execution_count": 49,
     "metadata": {},
     "output_type": "execute_result"
    }
   ],
   "source": [
    "# creating an array of ones\n",
    "\n",
    "np.ones((3,5,6))  # creating 2D array with '3' times '5' rows and '6' columns"
   ]
  },
  {
   "cell_type": "code",
   "execution_count": 57,
   "id": "0e6fd06d-6126-4f2c-bf23-12320d1feeac",
   "metadata": {},
   "outputs": [
    {
     "name": "stdout",
     "output_type": "stream",
     "text": [
      "[21 26 31 36 41 46 51]\n"
     ]
    }
   ],
   "source": [
    "# creating an array of evenly spaced values ( step value )\n",
    "\n",
    "evenly_spaced=np.arange(21,52,5) # steps n-1 = (5-1=4) and range between 21 and 52\n",
    "print(evenly_spaced)"
   ]
  },
  {
   "cell_type": "code",
   "execution_count": 69,
   "id": "c55d6fc9-969d-4380-9220-54ae679c0083",
   "metadata": {},
   "outputs": [
    {
     "data": {
      "text/plain": [
       "array([ 10.,  25.,  40.,  55.,  70.,  85., 100.])"
      ]
     },
     "execution_count": 69,
     "metadata": {},
     "output_type": "execute_result"
    }
   ],
   "source": [
    "# creating an array of evenly spaced values ( number of samples )\n",
    "\n",
    "np.linspace(10,100,7) # this will split the numbers between 0 and 8 with 7 elements. "
   ]
  },
  {
   "cell_type": "code",
   "execution_count": 107,
   "id": "5a18dad6-e21b-4d1f-857c-deec60660bd8",
   "metadata": {},
   "outputs": [
    {
     "name": "stdout",
     "output_type": "stream",
     "text": [
      "[21 21 21 21 21 21 21 21 21 21 21 21]\n",
      "No of dimensions :  1\n"
     ]
    }
   ],
   "source": [
    "# creating a constant array.( 1D )\n",
    "\n",
    "constant_array=np.full((12),21)   # ((columns),value)\n",
    "print(constant_array)  \n",
    "print('No of dimensions : ',constant_array.ndim)   # to find number of dimensions"
   ]
  },
  {
   "cell_type": "code",
   "execution_count": 105,
   "id": "419db269-ff16-4b88-bcc4-b581b3200e71",
   "metadata": {},
   "outputs": [
    {
     "name": "stdout",
     "output_type": "stream",
     "text": [
      "[[21 21 21 21 21 21]\n",
      " [21 21 21 21 21 21]\n",
      " [21 21 21 21 21 21]\n",
      " [21 21 21 21 21 21]]\n",
      "No of dimensions :  2\n"
     ]
    }
   ],
   "source": [
    "# creating 2D array\n",
    "\n",
    "array_2d=np.full((4,6),21)  # ((rows,columns),value)\n",
    "print(array_2d)\n",
    "print('No of dimensions : ',array_2d.ndim)"
   ]
  },
  {
   "cell_type": "code",
   "execution_count": 163,
   "id": "fef9b282-86db-4e99-ae2f-1e606294a3da",
   "metadata": {},
   "outputs": [
    {
     "name": "stdout",
     "output_type": "stream",
     "text": [
      "[[[21 21 21 21 21 21]\n",
      "  [21 21 21 21 21 21]\n",
      "  [21 21 21 21 21 21]\n",
      "  [21 21 21 21 21 21]\n",
      "  [21 21 21 21 21 21]]\n",
      "\n",
      " [[21 21 21 21 21 21]\n",
      "  [21 21 21 21 21 21]\n",
      "  [21 21 21 21 21 21]\n",
      "  [21 21 21 21 21 21]\n",
      "  [21 21 21 21 21 21]]]\n",
      "No of dimensions :  3\n"
     ]
    }
   ],
   "source": [
    "# creating 3D array\n",
    "\n",
    "array_3d=np.full((2,5,6),21)  # ((repeat,rows,columns),value)\n",
    "print(array_3d)\n",
    "print('No of dimensions : ',array_3d.ndim)"
   ]
  },
  {
   "cell_type": "code",
   "execution_count": 179,
   "id": "ba1bf9cd-fb72-4f52-bd05-fe7fe2cb8490",
   "metadata": {},
   "outputs": [
    {
     "name": "stdout",
     "output_type": "stream",
     "text": [
      "[[['lle' 'lle' 'lle' 'lle' 'lle' 'lle']\n",
      "  ['lle' 'lle' 'lle' 'lle' 'lle' 'lle']\n",
      "  ['lle' 'lle' 'lle' 'lle' 'lle' 'lle']\n",
      "  ['lle' 'lle' 'lle' 'lle' 'lle' 'lle']\n",
      "  ['lle' 'lle' 'lle' 'lle' 'lle' 'lle']]\n",
      "\n",
      " [['lle' 'lle' 'lle' 'lle' 'lle' 'lle']\n",
      "  ['lle' 'lle' 'lle' 'lle' 'lle' 'lle']\n",
      "  ['lle' 'lle' 'lle' 'lle' 'lle' 'lle']\n",
      "  ['lle' 'lle' 'lle' 'lle' 'lle' 'lle']\n",
      "  ['lle' 'lle' 'lle' 'lle' 'lle' 'lle']]]\n",
      "No of dimensions :  3\n"
     ]
    }
   ],
   "source": [
    "# creating 3D array\n",
    "\n",
    "array_3d=np.full((2,5,6), 'lle')  # ((repeat,rows,columns),value)\n",
    "print(array_3d)\n",
    "print('No of dimensions : ',array_3d.ndim)"
   ]
  },
  {
   "cell_type": "code",
   "execution_count": 113,
   "id": "fd25a9c1-79db-45b9-b237-14805308fcb7",
   "metadata": {},
   "outputs": [
    {
     "name": "stdout",
     "output_type": "stream",
     "text": [
      "[[1. 0. 0. 0.]\n",
      " [0. 1. 0. 0.]\n",
      " [0. 0. 1. 0.]\n",
      " [0. 0. 0. 1.]]\n"
     ]
    }
   ],
   "source": [
    "# creating an identity natrix.\n",
    "\n",
    "f=np.eye(4)\n",
    "print(f)"
   ]
  },
  {
   "cell_type": "code",
   "execution_count": 121,
   "id": "6475d108-59cc-44c6-a088-7442bfd3a80f",
   "metadata": {},
   "outputs": [
    {
     "data": {
      "text/plain": [
       "array([[0.68395818, 0.437638  , 0.52328563],\n",
       "       [0.22203424, 0.04778182, 0.74343491],\n",
       "       [0.14468264, 0.80688591, 0.16800212],\n",
       "       [0.02131357, 0.5468215 , 0.10088718]])"
      ]
     },
     "execution_count": 121,
     "metadata": {},
     "output_type": "execute_result"
    }
   ],
   "source": [
    "# create an array with random numbers.\n",
    "\n",
    "np.random.random((4,3))"
   ]
  },
  {
   "cell_type": "code",
   "execution_count": 129,
   "id": "4fb7e737-d71d-4f2f-b89b-39babd7ce8c1",
   "metadata": {},
   "outputs": [
    {
     "data": {
      "text/plain": [
       "70"
      ]
     },
     "execution_count": 129,
     "metadata": {},
     "output_type": "execute_result"
    }
   ],
   "source": [
    "# to print random number between given numbers.\n",
    "\n",
    "np.random.randint(10,100)"
   ]
  },
  {
   "cell_type": "code",
   "execution_count": 139,
   "id": "6e11e151-9ccc-4c87-9255-9c0ac0b68e67",
   "metadata": {},
   "outputs": [
    {
     "name": "stdout",
     "output_type": "stream",
     "text": [
      "(5, 4)\n",
      "20\n"
     ]
    }
   ],
   "source": [
    "# To find shape of an array & size of an array.\n",
    "\n",
    "arr=np.array([[3,4,5,2],[4,5,6,7],[2,3,4,5],[3,6,8,4],[3,9,0,3]])\n",
    "print(arr.shape)\n",
    "print(arr.size)"
   ]
  },
  {
   "cell_type": "code",
   "execution_count": 153,
   "id": "952eb2a2-010b-48c7-a159-9e1f68e904da",
   "metadata": {},
   "outputs": [
    {
     "data": {
      "text/plain": [
       "6"
      ]
     },
     "execution_count": 153,
     "metadata": {},
     "output_type": "execute_result"
    }
   ],
   "source": [
    "# To find length of an array.\n",
    "\n",
    "arr=np.array([[2,4,6],[6,4,2],[0,0,0],[1,1,1],[2,3,4],[4,7,9]])\n",
    "len(arr)"
   ]
  },
  {
   "cell_type": "code",
   "execution_count": 220,
   "id": "a7d56e30-48d8-46ef-970b-369e76636ec4",
   "metadata": {},
   "outputs": [
    {
     "data": {
      "text/plain": [
       "2"
      ]
     },
     "execution_count": 220,
     "metadata": {},
     "output_type": "execute_result"
    }
   ],
   "source": [
    "# To find length of an array.\n",
    "\n",
    "arr=np.array([[2,'r',True],[2.46,'e','f']])\n",
    "len(arr)"
   ]
  },
  {
   "cell_type": "markdown",
   "id": "910eafce-6f99-4b91-994d-6d4365cd7edf",
   "metadata": {},
   "source": [
    "### Access Array Elements - "
   ]
  },
  {
   "cell_type": "code",
   "execution_count": 181,
   "id": "fca49bc0-4a3d-4cc5-872f-0b8231292de5",
   "metadata": {},
   "outputs": [
    {
     "name": "stdout",
     "output_type": "stream",
     "text": [
      "34\n"
     ]
    }
   ],
   "source": [
    "# we can access any array element with respect to its index number\n",
    "import pandas as pd\n",
    "\n",
    "arr=pd.array([3,5,7,12,34])  # 1D  array\n",
    "print(arr[4])"
   ]
  },
  {
   "cell_type": "code",
   "execution_count": 183,
   "id": "31070608-e4a6-4393-b960-eb4a12f3c25e",
   "metadata": {},
   "outputs": [
    {
     "name": "stdout",
     "output_type": "stream",
     "text": [
      "52\n",
      "12\n",
      "418\n",
      "1.2222222222222223\n",
      "21\n",
      "1156\n",
      "1\n"
     ]
    }
   ],
   "source": [
    "# using arthemetic operations on elements with the help of index.\n",
    "\n",
    "num=pd.array([18,22,34,19,21,2])\n",
    "\n",
    "sum = num[0]+num[2]\n",
    "sub = num[2]-num[1]\n",
    "multi = num[1]*num[3]\n",
    "divi = num[1]/num[0]\n",
    "modulo = num[4]%num[2]\n",
    "expo = num[2]**num[5]\n",
    "floor_divi = num[3]//num[0]\n",
    "\n",
    "print(sum,sub,multi,divi,modulo,expo,floor_divi , sep='\\n')"
   ]
  },
  {
   "cell_type": "code",
   "execution_count": 640,
   "id": "aa9cc441-6e74-46cd-a979-8cc56b6ae05a",
   "metadata": {},
   "outputs": [
    {
     "name": "stdout",
     "output_type": "stream",
     "text": [
      "8\n"
     ]
    }
   ],
   "source": [
    "# accessing 2D array\n",
    "\n",
    "arr=np.array([[1,2,3,4],[5,6,7,8],[2,3,4,5],[6,7,8,9]])\n",
    "\n",
    "print(arr[3,2])"
   ]
  },
  {
   "cell_type": "code",
   "execution_count": 646,
   "id": "de92de95-b83e-4be3-bbe9-3f48c90545f4",
   "metadata": {},
   "outputs": [
    {
     "name": "stdout",
     "output_type": "stream",
     "text": [
      "9\n"
     ]
    }
   ],
   "source": [
    "# accessing 3D array\n",
    "mat = np.array([[[1,2,3,4],[2,3,4,5],[3,4,5,6]],\n",
    "                 [[4,5,6,7],[5,6,7,8],[6,7,8,9]],\n",
    "                 [[7,8,9,0],[8,9,0,1],[9,0,1,2]]])\n",
    "print(mat[1,2,3])"
   ]
  },
  {
   "cell_type": "markdown",
   "id": "82c9cbf4-d040-420b-a827-d6294f3fa38e",
   "metadata": {},
   "source": [
    "### Data Types -"
   ]
  },
  {
   "cell_type": "code",
   "execution_count": 192,
   "id": "38bb4126-6bb1-4cfb-9476-224b092b441e",
   "metadata": {},
   "outputs": [
    {
     "name": "stdout",
     "output_type": "stream",
     "text": [
      "[2 4 6 8]\n",
      "int32\n"
     ]
    }
   ],
   "source": [
    "# 'i'-integer, 'b'-boolean, 'u'-unsigned integer, 'f'-flaot, 'c'-complex float , 'M'-datetime, 'O'-object , 'S'-string \n",
    "\n",
    "arr = np.array([2,4,6,8])\n",
    "print(arr)\n",
    "print(arr.dtype)"
   ]
  },
  {
   "cell_type": "code",
   "execution_count": 194,
   "id": "01e202d0-0b2c-4de7-81a1-297da250d039",
   "metadata": {},
   "outputs": [
    {
     "name": "stdout",
     "output_type": "stream",
     "text": [
      "[b'2' b'4' b'6' b'8']\n",
      "|S1\n"
     ]
    }
   ],
   "source": [
    "arr = np.array([2,4,6,8], dtype='S')\n",
    "print(arr)\n",
    "print(arr.dtype)"
   ]
  },
  {
   "cell_type": "code",
   "execution_count": 196,
   "id": "4ae1a4df-9277-4750-ae5d-83548483df2f",
   "metadata": {},
   "outputs": [
    {
     "name": "stdout",
     "output_type": "stream",
     "text": [
      "[2 4 6 8]\n",
      "int32\n"
     ]
    }
   ],
   "source": [
    "arr = np.array([2,4,6,8], dtype='i4')\n",
    "print(arr)\n",
    "print(arr.dtype)"
   ]
  },
  {
   "cell_type": "code",
   "execution_count": 198,
   "id": "3fc6816f-10db-4ecc-96b2-ba46617ac391",
   "metadata": {},
   "outputs": [
    {
     "name": "stdout",
     "output_type": "stream",
     "text": [
      "[2 3 2 1 6]\n",
      "int32\n"
     ]
    }
   ],
   "source": [
    "# changing datatype from float to integer using 'i' as parameter value.\n",
    "arr=np.array([2.3,3.4,2.0,1.9,6.8])\n",
    "newarr=arr.astype('i')\n",
    "print(newarr)\n",
    "print(newarr.dtype)"
   ]
  },
  {
   "cell_type": "code",
   "execution_count": 208,
   "id": "ac9aafb9-4f62-418c-9d47-4b593ae2253b",
   "metadata": {},
   "outputs": [
    {
     "name": "stdout",
     "output_type": "stream",
     "text": [
      "[2 3 2 1 6]\n",
      "int32\n"
     ]
    }
   ],
   "source": [
    "# changing datatype from float to integer.\n",
    "arr=np.array([2.3,3.4,2.0,1.9,6.8])\n",
    "newarr=arr.astype(int)\n",
    "print(newarr)\n",
    "print(newarr.dtype)"
   ]
  },
  {
   "cell_type": "code",
   "execution_count": 210,
   "id": "132b1f02-0c69-44ee-b6e8-6398f623696a",
   "metadata": {},
   "outputs": [
    {
     "name": "stdout",
     "output_type": "stream",
     "text": [
      "[ True  True  True  True]\n",
      "bool\n"
     ]
    }
   ],
   "source": [
    "# changing datatype from int to bool.\n",
    "arr=np.array([1,2,3,4])\n",
    "newarr=arr.astype(bool)\n",
    "print(newarr)\n",
    "print(newarr.dtype)"
   ]
  },
  {
   "cell_type": "markdown",
   "id": "3f7f7cfc-8f1c-4d6a-9849-367a7d925b63",
   "metadata": {},
   "source": [
    "### copy() method -"
   ]
  },
  {
   "cell_type": "code",
   "execution_count": 254,
   "id": "b6d37866-d6ff-4dc3-82e3-a25dee300563",
   "metadata": {},
   "outputs": [
    {
     "name": "stdout",
     "output_type": "stream",
     "text": [
      "[1 3 5 7 9]\n",
      "[ 1 21  5  7  9]\n"
     ]
    }
   ],
   "source": [
    "original = np.array([1,3,5,7,9])\n",
    "copy = original.copy()\n",
    "\n",
    "original[1] = 21 # modifing the element in the array\n",
    "\n",
    "print(copy)\n",
    "print(original)"
   ]
  },
  {
   "cell_type": "markdown",
   "id": "6c1759df-7adc-466b-990a-7e0e482ca9ef",
   "metadata": {},
   "source": [
    "### view() "
   ]
  },
  {
   "cell_type": "code",
   "execution_count": 266,
   "id": "a092359d-d465-4c65-ac06-40b136594e55",
   "metadata": {},
   "outputs": [
    {
     "name": "stdout",
     "output_type": "stream",
     "text": [
      "[ 9  8 21  6  5  4  3  2  1]\n",
      "[ 9  8 21  6  5  4  3  2  1]\n"
     ]
    }
   ],
   "source": [
    "matrix = np.array([9,8,7,6,5,4,3,2,1])\n",
    "mat=matrix.view()\n",
    "\n",
    "matrix[2] = 21\n",
    "\n",
    "print(mat)\n",
    "print(matrix)"
   ]
  },
  {
   "cell_type": "code",
   "execution_count": 272,
   "id": "17561438-95c1-4cdc-a529-5a6425f41242",
   "metadata": {},
   "outputs": [
    {
     "name": "stdout",
     "output_type": "stream",
     "text": [
      "(2, 4)\n"
     ]
    }
   ],
   "source": [
    "arr = np.array([[1,2,3,4],[4,3,2,1]])\n",
    "print(arr.shape) # to know the no.of rows and columns"
   ]
  },
  {
   "cell_type": "markdown",
   "id": "6c8c9536-cebd-4d0a-a4dd-1a62ceab18f0",
   "metadata": {},
   "source": [
    "### Reshaping Arrays -"
   ]
  },
  {
   "cell_type": "code",
   "execution_count": 317,
   "id": "6ca0fa48-5ca3-4c23-bc00-61c07aedab17",
   "metadata": {},
   "outputs": [
    {
     "name": "stdout",
     "output_type": "stream",
     "text": [
      "8\n",
      "[[1 2]\n",
      " [3 4]\n",
      " [5 6]\n",
      " [7 8]]\n"
     ]
    }
   ],
   "source": [
    "# Reshaping means changing the shape an array.\n",
    "\n",
    "# converting 1D array into 2D array.\n",
    "\n",
    "array_1D = np.array([1,2,3,4,5,6,7,8])\n",
    "print(array_1D.size)\n",
    "\n",
    "array_2D = array_1D.reshape(4,2)\n",
    "print(array_2D)"
   ]
  },
  {
   "cell_type": "code",
   "execution_count": 333,
   "id": "3c2592ec-bbe0-4f3b-8c6e-5961308a238e",
   "metadata": {},
   "outputs": [
    {
     "name": "stdout",
     "output_type": "stream",
     "text": [
      "10\n",
      "[[[ 1  2  3  4  5]]\n",
      "\n",
      " [[ 6  7  8  9 10]]]\n"
     ]
    }
   ],
   "source": [
    "# Coverting 1D array into 3D array.\n",
    "\n",
    "array_1D = np.array([1,2,3,4,5,6,7,8,9,10])\n",
    "print(array_1D.size)\n",
    "\n",
    "array_3D = array_1D.reshape(2,1,5) # (repetition,rows,columns)\n",
    "print(array_3D)"
   ]
  },
  {
   "cell_type": "code",
   "execution_count": 353,
   "id": "de643900-f515-4f0a-9e84-29796c806578",
   "metadata": {},
   "outputs": [
    {
     "name": "stdout",
     "output_type": "stream",
     "text": [
      "8\n",
      "[[[1 2]\n",
      "  [3 4]]\n",
      "\n",
      " [[5 6]\n",
      "  [7 8]]]\n"
     ]
    }
   ],
   "source": [
    "# converting 2D array into 3D array.\n",
    "\n",
    "array_2D = np.array([[1,2,3,4],[5,6,7,8]])\n",
    "print(array_2D.size)\n",
    "\n",
    "array_3D = array_2D.reshape(2,2,2)  # (repetition,rows,columns)\n",
    "print(array_3D)"
   ]
  },
  {
   "cell_type": "code",
   "execution_count": 365,
   "id": "958bfc52-740a-400e-96fa-defda93d6a42",
   "metadata": {},
   "outputs": [
    {
     "name": "stdout",
     "output_type": "stream",
     "text": [
      "16\n",
      "[[1 2 3 4]\n",
      " [5 6 7 8]\n",
      " [1 2 3 4]\n",
      " [5 6 7 8]]\n"
     ]
    }
   ],
   "source": [
    "# converting 3D array into 2D array.\n",
    "\n",
    "array_3D = np.array([[[1,2,3,4],[5,6,7,8]],[[1,2,3,4],[5,6,7,8]]])\n",
    "print(array_3D.size)\n",
    "\n",
    "array_2D = array_3D.reshape(4,4)  # (repetition,rows,columns)\n",
    "print(array_2D)"
   ]
  },
  {
   "cell_type": "code",
   "execution_count": 367,
   "id": "280af261-6386-4e61-9b4b-92d6a80ba99b",
   "metadata": {},
   "outputs": [
    {
     "name": "stdout",
     "output_type": "stream",
     "text": [
      "16\n",
      "[1 2 3 4 5 6 7 8 1 2 3 4 5 6 7 8]\n"
     ]
    }
   ],
   "source": [
    "# converting 3D array into 1D array.\n",
    "\n",
    "array_3D = np.array([[[1,2,3,4],[5,6,7,8]],[[1,2,3,4],[5,6,7,8]]])\n",
    "print(array_3D.size)\n",
    "\n",
    "array_1D = array_3D.reshape(16)  # (repetition,rows,columns)\n",
    "print(array_1D)"
   ]
  },
  {
   "cell_type": "code",
   "execution_count": 369,
   "id": "4da4e150-402c-45d8-8266-83c300e4159d",
   "metadata": {},
   "outputs": [
    {
     "name": "stdout",
     "output_type": "stream",
     "text": [
      "8\n",
      "[1 2 3 4 5 6 7 8]\n"
     ]
    }
   ],
   "source": [
    "# converting 2D array into 1D array.\n",
    "\n",
    "array_2D = np.array([[1,2,3,4],[5,6,7,8]])\n",
    "print(array_2D.size)\n",
    "\n",
    "array_1D = array_2D.reshape(8)  # (repetition,rows,columns)\n",
    "print(array_1D)"
   ]
  },
  {
   "cell_type": "markdown",
   "id": "cfee9661-00f7-4b36-95cd-bf5bb15d1726",
   "metadata": {},
   "source": [
    "### Python program to create a data type object "
   ]
  },
  {
   "cell_type": "code",
   "execution_count": 462,
   "id": "6f143ef9-da65-4076-90e7-6367ac7daf14",
   "metadata": {},
   "outputs": [],
   "source": [
    "# creating an object.\n",
    "\n",
    "A = np.array([[1,2],[3,4]] , dtype=np.float64)\n",
    "B = np.array([[8,6],[7,8]] , dtype=np.float64)"
   ]
  },
  {
   "cell_type": "code",
   "execution_count": 478,
   "id": "67418e34-5c37-4555-9357-fb25b86f80a0",
   "metadata": {},
   "outputs": [
    {
     "name": "stdout",
     "output_type": "stream",
     "text": [
      "[[ 9.  8.]\n",
      " [10. 12.]] \n",
      "\n",
      "\n",
      " [[-7. -4.]\n",
      " [-4. -4.]] \n",
      "\n",
      "\n",
      " [[ 8. 12.]\n",
      " [21. 32.]] \n",
      "\n",
      "\n",
      " [[0.125      0.33333333]\n",
      " [0.42857143 0.5       ]] \n",
      "\n",
      "\n",
      " [[1. 2.]\n",
      " [3. 4.]] \n",
      "\n",
      "\n",
      " [[1.0000e+00 6.4000e+01]\n",
      " [2.1870e+03 6.5536e+04]] \n",
      "\n",
      "\n",
      " [[0. 0.]\n",
      " [0. 0.]]\n"
     ]
    }
   ],
   "source": [
    "# performing an arthematic operations on the object create to an array.\n",
    "\n",
    "sum = A+B\n",
    "sub = A-B\n",
    "multi = A*B\n",
    "divi = A/B\n",
    "modulo = A%B\n",
    "expo = A**B\n",
    "floor_divi = A//B\n",
    "\n",
    "print(sum,sub,multi,divi,modulo,expo,floor_divi, sep=' \\n\\n\\n ')"
   ]
  },
  {
   "cell_type": "code",
   "execution_count": 480,
   "id": "5e3c6129-27ca-4859-99ae-23892207c7f2",
   "metadata": {},
   "outputs": [
    {
     "name": "stdout",
     "output_type": "stream",
     "text": [
      "[[ 9.  8.]\n",
      " [10. 12.]]\n"
     ]
    }
   ],
   "source": [
    "print(np.add(A,B)) # addition"
   ]
  },
  {
   "cell_type": "code",
   "execution_count": 482,
   "id": "c26f6ac8-764a-4dd9-8182-d8a913cc9a69",
   "metadata": {},
   "outputs": [
    {
     "name": "stdout",
     "output_type": "stream",
     "text": [
      "[[-7. -4.]\n",
      " [-4. -4.]]\n"
     ]
    }
   ],
   "source": [
    "print(np.subtract(A,B))  #subtraction"
   ]
  },
  {
   "cell_type": "code",
   "execution_count": 484,
   "id": "8da5207f-2c43-4ca3-9ce1-c0bf336fa62d",
   "metadata": {},
   "outputs": [
    {
     "name": "stdout",
     "output_type": "stream",
     "text": [
      "[[ 8. 12.]\n",
      " [21. 32.]]\n"
     ]
    }
   ],
   "source": [
    "print(np.multiply(A,B))  # Multiplication"
   ]
  },
  {
   "cell_type": "code",
   "execution_count": 486,
   "id": "aa8ba2e4-e281-4a7d-b7c8-8262e8cf0ffa",
   "metadata": {},
   "outputs": [
    {
     "name": "stdout",
     "output_type": "stream",
     "text": [
      "[[0.125      0.33333333]\n",
      " [0.42857143 0.5       ]]\n"
     ]
    }
   ],
   "source": [
    "print(np.divide(A,B))  # Division"
   ]
  },
  {
   "cell_type": "code",
   "execution_count": 494,
   "id": "f83726c7-2118-4198-9210-2abef1d358d0",
   "metadata": {},
   "outputs": [
    {
     "name": "stdout",
     "output_type": "stream",
     "text": [
      "[[1. 2.]\n",
      " [3. 4.]]\n",
      "[[1. 2.]\n",
      " [3. 4.]]\n"
     ]
    }
   ],
   "source": [
    "# both 'mod()' and 'remainder()' gives the remainder as output after division operation has done.\n",
    "print(np.mod(A,B))\n",
    "print(np.remainder(A,B)) # Modulo"
   ]
  },
  {
   "cell_type": "code",
   "execution_count": 496,
   "id": "6b723067-4a13-4fab-b141-cba474331e1a",
   "metadata": {},
   "outputs": [
    {
     "name": "stdout",
     "output_type": "stream",
     "text": [
      "(array([[0., 0.],\n",
      "       [0., 0.]]), array([[1., 2.],\n",
      "       [3., 4.]]))\n"
     ]
    }
   ],
   "source": [
    "# The divmod() function return both the quotient and the remainder/mod. \n",
    "# The return value is two arrays, the first array contains the quotient and second array contains the remainder/mod.\n",
    "\n",
    "print(np.divmod(A,B)) # both divide and modulo"
   ]
  },
  {
   "cell_type": "code",
   "execution_count": 500,
   "id": "c15b6e7c-079c-423e-95f3-91d450ac6b08",
   "metadata": {},
   "outputs": [
    {
     "name": "stdout",
     "output_type": "stream",
     "text": [
      "[[1.         1.41421356]\n",
      " [1.73205081 2.        ]]\n"
     ]
    }
   ],
   "source": [
    "print(np.sqrt(A,B)) # square root"
   ]
  },
  {
   "cell_type": "code",
   "execution_count": 498,
   "id": "e1d39fe5-c97e-42a5-b7a6-6f1d6f7f0ab4",
   "metadata": {},
   "outputs": [
    {
     "name": "stdout",
     "output_type": "stream",
     "text": [
      "[[1.0000e+00 6.4000e+01]\n",
      " [2.1870e+03 6.5536e+04]]\n"
     ]
    }
   ],
   "source": [
    "print(np.power(A,B)) # Power"
   ]
  },
  {
   "cell_type": "code",
   "execution_count": 532,
   "id": "2d6312b6-a4e9-47fe-b976-7d2b313580d0",
   "metadata": {},
   "outputs": [
    {
     "name": "stdout",
     "output_type": "stream",
     "text": [
      "[[1 2]\n",
      " [3 4]]\n",
      "[[5 6]\n",
      " [7 8]]\n"
     ]
    }
   ],
   "source": [
    "# absolute() method is use to convert the negative numbers to positive numbers by removing the '-' sign.\n",
    "# Here 'absolute()' and 'abs()' both methods are same. \n",
    "\n",
    "x = np.array([[1,-2],[-3,4]])\n",
    "y = np.array([[-5,6],[7,-8]])\n",
    "\n",
    "print(np.absolute(x))\n",
    "print(np.abs(y))"
   ]
  },
  {
   "cell_type": "code",
   "execution_count": 544,
   "id": "6169c302-c19d-4822-874b-1715e8dca23e",
   "metadata": {},
   "outputs": [
    {
     "name": "stdout",
     "output_type": "stream",
     "text": [
      "[ 0  2  3  4  5  6  7  8  9 34]\n"
     ]
    }
   ],
   "source": [
    "#  Sort() method\n",
    "\n",
    "arr = np.array([7,4,5,3,2,34,6,9,8,0])\n",
    "print(np.sort(arr))"
   ]
  },
  {
   "cell_type": "markdown",
   "id": "1951688b-1ac6-4cf1-b990-9b0f1084cad1",
   "metadata": {},
   "source": [
    "### Slicing -"
   ]
  },
  {
   "cell_type": "code",
   "execution_count": 548,
   "id": "b2a36e53-69c3-40d1-ac1b-3764cb3ddc8d",
   "metadata": {},
   "outputs": [
    {
     "name": "stdout",
     "output_type": "stream",
     "text": [
      "[2 3 4 5 6]\n"
     ]
    }
   ],
   "source": [
    "# Slicing elements from index 1 to 5.\n",
    "\n",
    "arr = np.array([1,2,3,4,5,6,7,8,9,10])\n",
    "print(arr[1:6])"
   ]
  },
  {
   "cell_type": "code",
   "execution_count": 562,
   "id": "837e41fe-9ae9-451e-8a50-55bbc3f11407",
   "metadata": {},
   "outputs": [
    {
     "name": "stdout",
     "output_type": "stream",
     "text": [
      "[1 2 3]\n"
     ]
    }
   ],
   "source": [
    "# slicing element from beginning to index '3'\n",
    "print(arr[:3])"
   ]
  },
  {
   "cell_type": "code",
   "execution_count": 564,
   "id": "b5dbfe5a-79b6-4e4f-9f6a-0f57129b3281",
   "metadata": {},
   "outputs": [
    {
     "name": "stdout",
     "output_type": "stream",
     "text": [
      "[ 4  5  6  7  8  9 10]\n"
     ]
    }
   ],
   "source": [
    "# slicing elements from index '3' to the end of the array\n",
    "print(arr[3:])"
   ]
  },
  {
   "cell_type": "code",
   "execution_count": 616,
   "id": "eb593894-5e3a-4b59-a75a-6854bfdc1a1f",
   "metadata": {},
   "outputs": [
    {
     "name": "stdout",
     "output_type": "stream",
     "text": [
      "[2 4 6 8]\n"
     ]
    }
   ],
   "source": [
    "# Using the step value to determine the step of the slicing.\n",
    "print(arr[1:8:2])  # [from index 1 : 8 index : 2 (skips 1 element )] - n-1 = 2-1 = 1 time/element"
   ]
  },
  {
   "cell_type": "code",
   "execution_count": 618,
   "id": "249063f5-a04c-48d4-926f-7ffe80cbb531",
   "metadata": {},
   "outputs": [
    {
     "name": "stdout",
     "output_type": "stream",
     "text": [
      "[1 3 5 7 9]\n",
      "[1 5 9]\n"
     ]
    }
   ],
   "source": [
    "# returns every other element from the entire array\n",
    "print(arr[::2]) # (n-1 = 2-1 =1) skips one number\n",
    "print(arr[::4]) # (n-1 = 4-1 = 3) skips three numbers"
   ]
  },
  {
   "cell_type": "code",
   "execution_count": 620,
   "id": "8d5a09bc-112f-48ad-994c-8a4f343b72f3",
   "metadata": {},
   "outputs": [
    {
     "name": "stdout",
     "output_type": "stream",
     "text": [
      "[6 7 8]\n"
     ]
    }
   ],
   "source": [
    "# slicing 2D array\n",
    "\n",
    "arr = np.array([[1,2,3,4],[5,6,7,8],[8,7,6,5],[4,3,2,1]])\n",
    "print(arr[1,1:4])"
   ]
  },
  {
   "cell_type": "code",
   "execution_count": 622,
   "id": "39558607-94dd-4166-928e-ba3d474c22db",
   "metadata": {},
   "outputs": [
    {
     "name": "stdout",
     "output_type": "stream",
     "text": [
      "[3 7 6]\n"
     ]
    }
   ],
   "source": [
    "# returns both element index '2'\n",
    "\n",
    "arr = np.array([[1,2,3,4],[5,6,7,8],[8,7,6,5],[4,3,2,1]])\n",
    "print(arr[0:3,2])"
   ]
  },
  {
   "cell_type": "code",
   "execution_count": 636,
   "id": "14e3a9c3-18b5-4a4a-940b-127a260f05aa",
   "metadata": {},
   "outputs": [
    {
     "name": "stdout",
     "output_type": "stream",
     "text": [
      "[[[ 1  2  3]\n",
      "  [ 4  5  6]]\n",
      "\n",
      " [[ 7  8  9]\n",
      "  [10 11 12]]]\n",
      "12\n",
      "5\n"
     ]
    }
   ],
   "source": [
    "# slicing 3D array\n",
    "\n",
    "arr = np.array([[[1,2,3],[4,5,6]],[[7,8,9],[10,11,12]]])\n",
    "print(arr)\n",
    "print(arr[1,1,2])\n",
    "print(arr[0,1,1])"
   ]
  },
  {
   "cell_type": "markdown",
   "id": "3d2d4a5b-358e-447f-97bf-e0e9c9f47fdb",
   "metadata": {},
   "source": [
    "### Negative Slicing - "
   ]
  },
  {
   "cell_type": "code",
   "execution_count": 608,
   "id": "3a8e9554-89bd-4c16-bfa8-289ab18f182e",
   "metadata": {},
   "outputs": [
    {
     "name": "stdout",
     "output_type": "stream",
     "text": [
      "[6 7 8 9]\n"
     ]
    }
   ],
   "source": [
    "# slicing elements from the index 5 from end to index 1 from end\n",
    "arr = np.array([1,2,3,4,5,6,7,8,9,10])\n",
    "print(arr[-5:-1])"
   ]
  }
 ],
 "metadata": {
  "kernelspec": {
   "display_name": "Python 3 (ipykernel)",
   "language": "python",
   "name": "python3"
  },
  "language_info": {
   "codemirror_mode": {
    "name": "ipython",
    "version": 3
   },
   "file_extension": ".py",
   "mimetype": "text/x-python",
   "name": "python",
   "nbconvert_exporter": "python",
   "pygments_lexer": "ipython3",
   "version": "3.12.4"
  }
 },
 "nbformat": 4,
 "nbformat_minor": 5
}
